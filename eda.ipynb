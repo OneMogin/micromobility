{
 "cells": [
  {
   "cell_type": "code",
   "execution_count": 2,
   "metadata": {},
   "outputs": [],
   "source": [
    "import pandas as pd \n",
    "import numpy as np\n",
    "import matplotlib.pyplot as plt\n",
    "from src.API.api_request import APIRequest\n"
   ]
  },
  {
   "cell_type": "code",
   "execution_count": 3,
   "metadata": {},
   "outputs": [],
   "source": [
    "api_call = APIRequest(\"TIER\")\n",
    "df = api_call.get()\n"
   ]
  },
  {
   "cell_type": "code",
   "execution_count": 4,
   "metadata": {},
   "outputs": [
    {
     "data": {
      "text/html": [
       "<div>\n",
       "<style scoped>\n",
       "    .dataframe tbody tr th:only-of-type {\n",
       "        vertical-align: middle;\n",
       "    }\n",
       "\n",
       "    .dataframe tbody tr th {\n",
       "        vertical-align: top;\n",
       "    }\n",
       "\n",
       "    .dataframe thead th {\n",
       "        text-align: right;\n",
       "    }\n",
       "</style>\n",
       "<table border=\"1\" class=\"dataframe\">\n",
       "  <thead>\n",
       "    <tr style=\"text-align: right;\">\n",
       "      <th></th>\n",
       "      <th>state</th>\n",
       "      <th>lastLocationUpdate</th>\n",
       "      <th>batteryLevel</th>\n",
       "      <th>currentRangeMeters</th>\n",
       "      <th>lat</th>\n",
       "      <th>lng</th>\n",
       "      <th>maxSpeed</th>\n",
       "      <th>isRentable</th>\n",
       "      <th>vehicleType</th>\n",
       "      <th>time</th>\n",
       "    </tr>\n",
       "  </thead>\n",
       "  <tbody>\n",
       "    <tr>\n",
       "      <th>0</th>\n",
       "      <td>ACTIVE</td>\n",
       "      <td>2023-09-14T18:13:54Z</td>\n",
       "      <td>26</td>\n",
       "      <td>6000</td>\n",
       "      <td>52.468834</td>\n",
       "      <td>13.458543</td>\n",
       "      <td>20</td>\n",
       "      <td>True</td>\n",
       "      <td>escooter</td>\n",
       "      <td>2023-09-14 21:53:25.095015</td>\n",
       "    </tr>\n",
       "    <tr>\n",
       "      <th>1</th>\n",
       "      <td>ACTIVE</td>\n",
       "      <td>2023-09-14T19:39:37Z</td>\n",
       "      <td>94</td>\n",
       "      <td>43000</td>\n",
       "      <td>52.500211</td>\n",
       "      <td>13.343958</td>\n",
       "      <td>20</td>\n",
       "      <td>True</td>\n",
       "      <td>escooter</td>\n",
       "      <td>2023-09-14 21:53:25.095015</td>\n",
       "    </tr>\n",
       "    <tr>\n",
       "      <th>2</th>\n",
       "      <td>ACTIVE</td>\n",
       "      <td>2023-09-14T19:46:18Z</td>\n",
       "      <td>93</td>\n",
       "      <td>42000</td>\n",
       "      <td>52.499181</td>\n",
       "      <td>13.353597</td>\n",
       "      <td>20</td>\n",
       "      <td>True</td>\n",
       "      <td>escooter</td>\n",
       "      <td>2023-09-14 21:53:25.095015</td>\n",
       "    </tr>\n",
       "    <tr>\n",
       "      <th>3</th>\n",
       "      <td>ACTIVE</td>\n",
       "      <td>2023-09-14T19:04:07Z</td>\n",
       "      <td>26</td>\n",
       "      <td>6000</td>\n",
       "      <td>52.525715</td>\n",
       "      <td>13.410724</td>\n",
       "      <td>20</td>\n",
       "      <td>True</td>\n",
       "      <td>escooter</td>\n",
       "      <td>2023-09-14 21:53:25.095015</td>\n",
       "    </tr>\n",
       "    <tr>\n",
       "      <th>4</th>\n",
       "      <td>ACTIVE</td>\n",
       "      <td>2023-09-14T18:50:37Z</td>\n",
       "      <td>82</td>\n",
       "      <td>36000</td>\n",
       "      <td>52.528469</td>\n",
       "      <td>13.407458</td>\n",
       "      <td>20</td>\n",
       "      <td>True</td>\n",
       "      <td>escooter</td>\n",
       "      <td>2023-09-14 21:53:25.095015</td>\n",
       "    </tr>\n",
       "  </tbody>\n",
       "</table>\n",
       "</div>"
      ],
      "text/plain": [
       "    state    lastLocationUpdate  batteryLevel  currentRangeMeters        lat  \\\n",
       "0  ACTIVE  2023-09-14T18:13:54Z            26                6000  52.468834   \n",
       "1  ACTIVE  2023-09-14T19:39:37Z            94               43000  52.500211   \n",
       "2  ACTIVE  2023-09-14T19:46:18Z            93               42000  52.499181   \n",
       "3  ACTIVE  2023-09-14T19:04:07Z            26                6000  52.525715   \n",
       "4  ACTIVE  2023-09-14T18:50:37Z            82               36000  52.528469   \n",
       "\n",
       "         lng  maxSpeed  isRentable vehicleType                       time  \n",
       "0  13.458543        20        True    escooter 2023-09-14 21:53:25.095015  \n",
       "1  13.343958        20        True    escooter 2023-09-14 21:53:25.095015  \n",
       "2  13.353597        20        True    escooter 2023-09-14 21:53:25.095015  \n",
       "3  13.410724        20        True    escooter 2023-09-14 21:53:25.095015  \n",
       "4  13.407458        20        True    escooter 2023-09-14 21:53:25.095015  "
      ]
     },
     "execution_count": 4,
     "metadata": {},
     "output_type": "execute_result"
    }
   ],
   "source": [
    "df.head()"
   ]
  },
  {
   "cell_type": "code",
   "execution_count": null,
   "metadata": {},
   "outputs": [],
   "source": []
  }
 ],
 "metadata": {
  "kernelspec": {
   "display_name": "Python 3",
   "language": "python",
   "name": "python3"
  },
  "language_info": {
   "codemirror_mode": {
    "name": "ipython",
    "version": 3
   },
   "file_extension": ".py",
   "mimetype": "text/x-python",
   "name": "python",
   "nbconvert_exporter": "python",
   "pygments_lexer": "ipython3",
   "version": "3.10.0"
  },
  "orig_nbformat": 4
 },
 "nbformat": 4,
 "nbformat_minor": 2
}
